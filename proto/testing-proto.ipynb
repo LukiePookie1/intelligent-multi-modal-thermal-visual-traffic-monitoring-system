{
 "cells": [
  {
   "cell_type": "code",
   "execution_count": null,
   "id": "a827c1f7-5e6e-44a0-af09-bcdd8c90502c",
   "metadata": {},
   "outputs": [],
   "source": [
    "import os\n",
    "import cv2\n",
    "import xml.etree.ElementTree as ET\n",
    "\n",
    "raw_image_dir = \"raw-images\"\n",
    "annotation_dir = \"annotations\"\n",
    "\n",
    "for subfolder in os.listdir(raw_image_dir):\n",
    "    subfolder_images_dir = os.path.join(raw_image_dir, subfolder)\n",
    "    subfolder_annotations_dir = os.path.join(annotation_dir, subfolder)\n",
    "\n",
    "    if not os.path.isdir(subfolder_annotations_dir):\n",
    "        continue\n",
    "\n",
    "    for image_file in os.listdir(subfolder_images_dir):\n",
    "        if image_file.endswith(\".jpg\"):\n",
    "            annotation_file = os.path.splitext(image_file)[0] + \".xml\"\n",
    "            annotation_path = os.path.join(subfolder_annotations_dir, annotation_file)\n",
    "            image_path = os.path.join(subfolder_images_dir, image_file)\n",
    "\n",
    "            if not os.path.exists(annotation_path):\n",
    "                print(f\"Annotation file not found for image: {image_file}\")\n",
    "                continue\n",
    "\n",
    "            image = cv2.imread(image_path)\n",
    "            tree = ET.parse(annotation_path)\n",
    "            root = tree.getroot()\n",
    "\n",
    "            for obj in root.findall(\"object\"):\n",
    "                bbox = obj.find(\"bndbox\")\n",
    "                xmin = int(bbox.find(\"xmin\").text)\n",
    "                ymin = int(bbox.find(\"ymin\").text)\n",
    "                xmax = int(bbox.find(\"xmax\").text)\n",
    "                ymax = int(bbox.find(\"ymax\").text)\n",
    "                label = obj.find(\"name\").text\n",
    "\n",
    "                cv2.rectangle(image, (xmin, ymin), (xmax, ymax), (0, 255, 0), 2)\n",
    "                cv2.putText(image, label, (xmin, ymin - 10), cv2.FONT_HERSHEY_SIMPLEX, 0.9, (0, 255, 0), 2)\n",
    "\n",
    "            cv2.imshow(\"Image with Annotations\", image)\n",
    "            cv2.waitKey(0)\n",
    "            cv2.destroyAllWindows()"
   ]
  },
  {
   "cell_type": "code",
   "execution_count": null,
   "id": "d5a37f1b-6d6d-41ba-bd22-2c48cf453210",
   "metadata": {},
   "outputs": [],
   "source": []
  },
  {
   "cell_type": "code",
   "execution_count": null,
   "id": "ad476d32-3fea-456f-9f50-3c41f0b14a04",
   "metadata": {},
   "outputs": [],
   "source": []
  }
 ],
 "metadata": {
  "kernelspec": {
   "display_name": "Python 3 (ipykernel)",
   "language": "python",
   "name": "python3"
  },
  "language_info": {
   "codemirror_mode": {
    "name": "ipython",
    "version": 3
   },
   "file_extension": ".py",
   "mimetype": "text/x-python",
   "name": "python",
   "nbconvert_exporter": "python",
   "pygments_lexer": "ipython3",
   "version": "3.10.14"
  }
 },
 "nbformat": 4,
 "nbformat_minor": 5
}
