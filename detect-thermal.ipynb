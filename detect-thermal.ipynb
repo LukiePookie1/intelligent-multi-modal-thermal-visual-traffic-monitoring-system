{
 "cells": [
  {
   "cell_type": "code",
   "execution_count": null,
   "id": "1951d177-5cff-4eda-b53d-2f3b215af86b",
   "metadata": {},
   "outputs": [],
   "source": [
    "# Cell 5: Model Definition and Training\n",
    "num_classes = len(class_to_idx) + 1\n",
    "\n",
    "thermal_model = fasterrcnn_resnet50_fpn(weights=\"DEFAULT\")\n",
    "in_features = thermal_model.roi_heads.box_predictor.cls_score.in_features\n",
    "thermal_model.roi_heads.box_predictor = FastRCNNPredictor(in_features, num_classes)\n",
    "\n",
    "device = torch.device(\"cuda\" if torch.cuda.is_available() else \"cpu\")\n",
    "thermal_model.to(device)\n",
    "\n",
    "thermal_optimizer = torch.optim.SGD(thermal_model.parameters(), lr=0.001, momentum=0.9, weight_decay=0.0005)\n",
    "\n",
    "num_epochs = 30\n",
    "\n",
    "for epoch in range(num_epochs):\n",
    "    thermal_model.train()\n",
    "    \n",
    "    thermal_epoch_loss = 0.0\n",
    "    \n",
    "    for thermal_images, thermal_targets in train_thermal_loader:\n",
    "        thermal_images = list(image.to(device) for image in thermal_images)\n",
    "        thermal_targets = [{k: v.to(device) for k, v in t.items()} for t in thermal_targets]\n",
    "        \n",
    "        thermal_loss_dict = thermal_model(thermal_images, thermal_targets)\n",
    "        thermal_losses = sum(loss for loss in thermal_loss_dict.values())\n",
    "        \n",
    "        thermal_optimizer.zero_grad()\n",
    "        thermal_losses.backward()\n",
    "        thermal_optimizer.step()\n",
    "        \n",
    "        thermal_epoch_loss += thermal_losses.item()\n",
    "    \n",
    "    print(f\"Epoch [{epoch+1}/{num_epochs}], Thermal Loss: {thermal_epoch_loss/len(train_thermal_loader):.4f}\")\n",
    "\n",
    "torch.save(thermal_model.state_dict(), \"trained_model.pth\")\n",
    "\n",
    "thermal_model.eval()\n",
    "with torch.no_grad():\n",
    "    for images, targets in train_thermal_loader:\n",
    "        images = list(image.to(device) for image in images)\n",
    "        outputs = thermal_model(images)\n",
    "        \n",
    "        for i in range(len(images)):\n",
    "            boxes = outputs[i]['boxes'].cpu().numpy()\n",
    "            labels = outputs[i]['labels'].cpu().numpy()\n",
    "            scores = outputs[i]['scores'].cpu().numpy()\n",
    "            \n",
    "            print(f\"Image {i+1} - Boxes: {boxes}, Labels: {labels}, Scores: {scores}\")\n",
    "        \n",
    "        break"
   ]
  }
 ],
 "metadata": {
  "kernelspec": {
   "display_name": "Python 3 (ipykernel)",
   "language": "python",
   "name": "python3"
  },
  "language_info": {
   "codemirror_mode": {
    "name": "ipython",
    "version": 3
   },
   "file_extension": ".py",
   "mimetype": "text/x-python",
   "name": "python",
   "nbconvert_exporter": "python",
   "pygments_lexer": "ipython3",
   "version": "3.10.14"
  }
 },
 "nbformat": 4,
 "nbformat_minor": 5
}
