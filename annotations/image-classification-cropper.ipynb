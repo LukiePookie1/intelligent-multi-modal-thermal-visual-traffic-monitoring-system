{
 "cells": [
  {
   "cell_type": "code",
   "execution_count": null,
   "id": "bd7d6612-7958-4c8a-9602-388ee1670d9e",
   "metadata": {},
   "outputs": [],
   "source": [
    "import xml.etree.ElementTree as ET\n",
    "from PIL import Image\n",
    "import os\n",
    "\n",
    "def find_folders_with_keyword(base_dir, keyword):\n",
    "    \"\"\"Find folders within base_dir that contain the keyword in their name.\"\"\"\n",
    "    return [os.path.join(base_dir, d) for d in os.listdir(base_dir) if keyword in d and os.path.isdir(os.path.join(base_dir, d))]\n",
    "\n",
    "def parse_annotation(xml_file):\n",
    "    \"\"\"Parse the XML file to get bounding boxes.\"\"\"\n",
    "    tree = ET.parse(xml_file)\n",
    "    root = tree.getroot()\n",
    "    boxes = []\n",
    "    for member in root.findall('.//object'):\n",
    "        xmin = int(member.find('.//bndbox/xmin').text)\n",
    "        ymin = int(member.find('.//bndbox/ymin').text)\n",
    "        xmax = int(member.find('.//bndbox/xmax').text)\n",
    "        ymax = int(member.find('.//bndbox/ymax').text)\n",
    "        boxes.append((xmin, ymin, xmax, ymax))\n",
    "    return boxes\n",
    "\n",
    "def crop_and_save(image_path, boxes, save_dir, image_name):\n",
    "    \"\"\"Crop the image based on bounding boxes and save them.\"\"\"\n",
    "    image = Image.open(image_path)\n",
    "    for i, (xmin, ymin, xmax, ymax) in enumerate(boxes, start=1):\n",
    "        cropped_image = image.crop((xmin, ymin, xmax, ymax))\n",
    "        save_path = os.path.join(save_dir, f\"{image_name}_object{i}.jpg\")\n",
    "        cropped_image.save(save_path)\n",
    "        print(f\"Saved: {save_path}\")\n",
    "\n",
    "# Directories\n",
    "raw_images_base_dir = 'raw-images'\n",
    "annotations_base_dir = 'annotations'\n",
    "cropped_images_dir = 'cropped-images-visual'\n",
    "\n",
    "# Create the directory for cropped images if it doesn't exist\n",
    "os.makedirs(cropped_images_dir, exist_ok=True)\n",
    "\n",
    "# Process all images with associated annotations\n",
    "for raw_folder in find_folders_with_keyword(raw_images_base_dir, 'rgb'):\n",
    "    folder_name = os.path.basename(raw_folder)\n",
    "    annotations_folder = os.path.join(annotations_base_dir, folder_name)\n",
    "    for image_name in os.listdir(raw_folder):\n",
    "        base_name, ext = os.path.splitext(image_name)\n",
    "        if ext.lower() not in ['.jpg', '.png']:\n",
    "            continue\n",
    "        image_path = os.path.join(raw_folder, image_name)\n",
    "        annotation_path = os.path.join(annotations_folder, base_name + '.xml')\n",
    "        if os.path.exists(annotation_path):\n",
    "            boxes = parse_annotation(annotation_path)\n",
    "            crop_and_save(image_path, boxes, cropped_images_dir, base_name)\n",
    "        else:\n",
    "            print(f\"Annotation file does not exist for {image_name}, skipping...\")\n"
   ]
  }
 ],
 "metadata": {
  "kernelspec": {
   "display_name": "Python 3 (ipykernel)",
   "language": "python",
   "name": "python3"
  },
  "language_info": {
   "codemirror_mode": {
    "name": "ipython",
    "version": 3
   },
   "file_extension": ".py",
   "mimetype": "text/x-python",
   "name": "python",
   "nbconvert_exporter": "python",
   "pygments_lexer": "ipython3",
   "version": "3.10.14"
  }
 },
 "nbformat": 4,
 "nbformat_minor": 5
}
