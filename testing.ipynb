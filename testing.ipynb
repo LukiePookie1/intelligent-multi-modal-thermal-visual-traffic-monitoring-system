{
 "cells": [
  {
   "cell_type": "code",
   "execution_count": null,
   "id": "a827c1f7-5e6e-44a0-af09-bcdd8c90502c",
   "metadata": {},
   "outputs": [],
   "source": [
    "import os\n",
    "import cv2\n",
    "import xml.etree.ElementTree as ET\n",
    "\n",
    "image_dir = \"raw-images\\\\bridge-1\"\n",
    "annotation_dir = \"annotations\\\\bridge-1\"\n",
    "\n",
    "for image_file in os.listdir(image_dir):\n",
    "    if image_file.endswith(\".jpg\"):\n",
    "        annotation_file = os.path.splitext(image_file)[0] + \".xml\"\n",
    "        annotation_path = os.path.join(annotation_dir, annotation_file)\n",
    "        \n",
    "        image_path = os.path.join(image_dir, image_file)\n",
    "        image = cv2.imread(image_path)\n",
    "        \n",
    "        tree = ET.parse(annotation_path)\n",
    "        root = tree.getroot()\n",
    "        \n",
    "        for obj in root.findall(\"object\"):\n",
    "            bbox = obj.find(\"bndbox\")\n",
    "            xmin = int(bbox.find(\"xmin\").text)\n",
    "            ymin = int(bbox.find(\"ymin\").text)\n",
    "            xmax = int(bbox.find(\"xmax\").text)\n",
    "            ymax = int(bbox.find(\"ymax\").text)\n",
    "            \n",
    "            label = obj.find(\"name\").text\n",
    "            \n",
    "            cv2.rectangle(image, (xmin, ymin), (xmax, ymax), (0, 255, 0), 2)\n",
    "            \n",
    "            cv2.putText(image, label, (xmin, ymin - 10), cv2.FONT_HERSHEY_SIMPLEX, 0.9, (0, 255, 0), 2)\n",
    "        \n",
    "        cv2.imshow(\"Image with Annotations\", image)\n",
    "        cv2.waitKey(0)\n",
    "        cv2.destroyAllWindows()"
   ]
  },
  {
   "cell_type": "code",
   "execution_count": 2,
   "id": "d5a37f1b-6d6d-41ba-bd22-2c48cf453210",
   "metadata": {},
   "outputs": [
    {
     "name": "stdout",
     "output_type": "stream",
     "text": [
      "Video saved as output_video.mp4\n"
     ]
    }
   ],
   "source": [
    "import os\n",
    "import cv2\n",
    "import xml.etree.ElementTree as ET\n",
    "\n",
    "image_dir = \"raw-images\\\\bridge-1\"\n",
    "annotation_dir = \"annotations\\\\bridge-1\"\n",
    "\n",
    "output_video = \"output_video.mp4\"\n",
    "frame_rate = 3.23 \n",
    "fourcc = cv2.VideoWriter_fourcc(*'mp4v')\n",
    "\n",
    "first_image_path = os.path.join(image_dir, os.listdir(image_dir)[0])\n",
    "first_image = cv2.imread(first_image_path)\n",
    "frame_size = (first_image.shape[1], first_image.shape[0])\n",
    "\n",
    "video_writer = cv2.VideoWriter(output_video, fourcc, frame_rate, frame_size)\n",
    "\n",
    "for image_file in os.listdir(image_dir):\n",
    "    if image_file.endswith(\".jpg\"):\n",
    "        annotation_file = os.path.splitext(image_file)[0] + \".xml\"\n",
    "        annotation_path = os.path.join(annotation_dir, annotation_file)\n",
    "        \n",
    "        image_path = os.path.join(image_dir, image_file)\n",
    "        image = cv2.imread(image_path)\n",
    "        \n",
    "        tree = ET.parse(annotation_path)\n",
    "        root = tree.getroot()\n",
    "        \n",
    "        for obj in root.findall(\"object\"):\n",
    "            # Get the bounding box coordinates\n",
    "            bbox = obj.find(\"bndbox\")\n",
    "            xmin = int(bbox.find(\"xmin\").text)\n",
    "            ymin = int(bbox.find(\"ymin\").text)\n",
    "            xmax = int(bbox.find(\"xmax\").text)\n",
    "            ymax = int(bbox.find(\"ymax\").text)\n",
    "            \n",
    "            label = obj.find(\"name\").text\n",
    "            \n",
    "            cv2.rectangle(image, (xmin, ymin), (xmax, ymax), (0, 255, 0), 2)\n",
    "            \n",
    "            cv2.putText(image, label, (xmin, ymin - 10), cv2.FONT_HERSHEY_SIMPLEX, 0.9, (0, 255, 0), 2)\n",
    "        \n",
    "        video_writer.write(image)\n",
    "\n",
    "video_writer.release()\n",
    "\n",
    "print(\"Video saved as\", output_video)"
   ]
  },
  {
   "cell_type": "code",
   "execution_count": null,
   "id": "ad476d32-3fea-456f-9f50-3c41f0b14a04",
   "metadata": {},
   "outputs": [],
   "source": []
  }
 ],
 "metadata": {
  "kernelspec": {
   "display_name": "Python 3 (ipykernel)",
   "language": "python",
   "name": "python3"
  },
  "language_info": {
   "codemirror_mode": {
    "name": "ipython",
    "version": 3
   },
   "file_extension": ".py",
   "mimetype": "text/x-python",
   "name": "python",
   "nbconvert_exporter": "python",
   "pygments_lexer": "ipython3",
   "version": "3.10.14"
  }
 },
 "nbformat": 4,
 "nbformat_minor": 5
}
